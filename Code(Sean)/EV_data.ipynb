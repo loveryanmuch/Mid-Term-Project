{
 "cells": [
  {
   "cell_type": "code",
   "execution_count": 1,
   "id": "a0b18685-c3bd-4808-94d9-9ffe992afeb1",
   "metadata": {
    "tags": []
   },
   "outputs": [],
   "source": [
    "import pandas as pd"
   ]
  },
  {
   "cell_type": "code",
   "execution_count": 3,
   "id": "1d53a209-678a-40dd-94e0-9bda2b5e6db9",
   "metadata": {
    "tags": []
   },
   "outputs": [],
   "source": [
    "ev_wa = pd.read_csv('Electric_Vehicle_Population_Data.csv')"
   ]
  },
  {
   "cell_type": "code",
   "execution_count": 4,
   "id": "e40f84b0-128d-4c76-8325-ec4f273261cb",
   "metadata": {
    "tags": []
   },
   "outputs": [
    {
     "data": {
      "text/html": [
       "<div>\n",
       "<style scoped>\n",
       "    .dataframe tbody tr th:only-of-type {\n",
       "        vertical-align: middle;\n",
       "    }\n",
       "\n",
       "    .dataframe tbody tr th {\n",
       "        vertical-align: top;\n",
       "    }\n",
       "\n",
       "    .dataframe thead th {\n",
       "        text-align: right;\n",
       "    }\n",
       "</style>\n",
       "<table border=\"1\" class=\"dataframe\">\n",
       "  <thead>\n",
       "    <tr style=\"text-align: right;\">\n",
       "      <th></th>\n",
       "      <th>VIN (1-10)</th>\n",
       "      <th>County</th>\n",
       "      <th>City</th>\n",
       "      <th>State</th>\n",
       "      <th>Postal Code</th>\n",
       "      <th>Model Year</th>\n",
       "      <th>Make</th>\n",
       "      <th>Model</th>\n",
       "      <th>Electric Vehicle Type</th>\n",
       "      <th>Clean Alternative Fuel Vehicle (CAFV) Eligibility</th>\n",
       "      <th>Electric Range</th>\n",
       "      <th>Base MSRP</th>\n",
       "      <th>Legislative District</th>\n",
       "      <th>DOL Vehicle ID</th>\n",
       "      <th>Vehicle Location</th>\n",
       "      <th>Electric Utility</th>\n",
       "      <th>2020 Census Tract</th>\n",
       "      <th>Counties</th>\n",
       "      <th>Congressional Districts</th>\n",
       "      <th>WAOFM - GIS - Legislative District Boundary</th>\n",
       "    </tr>\n",
       "  </thead>\n",
       "  <tbody>\n",
       "    <tr>\n",
       "      <th>0</th>\n",
       "      <td>5UXTA6C05P</td>\n",
       "      <td>Yakima</td>\n",
       "      <td>Yakima</td>\n",
       "      <td>WA</td>\n",
       "      <td>98903.0</td>\n",
       "      <td>2023</td>\n",
       "      <td>BMW</td>\n",
       "      <td>X5</td>\n",
       "      <td>Plug-in Hybrid Electric Vehicle (PHEV)</td>\n",
       "      <td>Clean Alternative Fuel Vehicle Eligible</td>\n",
       "      <td>30</td>\n",
       "      <td>0</td>\n",
       "      <td>14.0</td>\n",
       "      <td>227153587</td>\n",
       "      <td>POINT (-120.477805 46.553505)</td>\n",
       "      <td>PACIFICORP</td>\n",
       "      <td>5.307700e+10</td>\n",
       "      <td>2746.0</td>\n",
       "      <td>4.0</td>\n",
       "      <td>22.0</td>\n",
       "    </tr>\n",
       "  </tbody>\n",
       "</table>\n",
       "</div>"
      ],
      "text/plain": [
       "   VIN (1-10)  County    City State  Postal Code  Model Year Make Model  \\\n",
       "0  5UXTA6C05P  Yakima  Yakima    WA      98903.0        2023  BMW    X5   \n",
       "\n",
       "                    Electric Vehicle Type  \\\n",
       "0  Plug-in Hybrid Electric Vehicle (PHEV)   \n",
       "\n",
       "  Clean Alternative Fuel Vehicle (CAFV) Eligibility  Electric Range  \\\n",
       "0           Clean Alternative Fuel Vehicle Eligible              30   \n",
       "\n",
       "   Base MSRP  Legislative District  DOL Vehicle ID  \\\n",
       "0          0                  14.0       227153587   \n",
       "\n",
       "                Vehicle Location Electric Utility  2020 Census Tract  \\\n",
       "0  POINT (-120.477805 46.553505)       PACIFICORP       5.307700e+10   \n",
       "\n",
       "   Counties  Congressional Districts  \\\n",
       "0    2746.0                      4.0   \n",
       "\n",
       "   WAOFM - GIS - Legislative District Boundary  \n",
       "0                                         22.0  "
      ]
     },
     "execution_count": 4,
     "metadata": {},
     "output_type": "execute_result"
    }
   ],
   "source": [
    "ev_wa.head(1)"
   ]
  },
  {
   "cell_type": "code",
   "execution_count": 8,
   "id": "f0fa8a15-936a-47e6-91a9-b40a408880e9",
   "metadata": {
    "tags": []
   },
   "outputs": [],
   "source": [
    "ev_wa = ev_wa.drop(columns=['State', 'Clean Alternative Fuel Vehicle (CAFV) Eligibility','Base MSRP','Legislative District','DOL Vehicle ID','2020 Census Tract','Counties','Congressional Districts','WAOFM - GIS - Legislative District Boundary'])"
   ]
  },
  {
   "cell_type": "code",
   "execution_count": 14,
   "id": "7a5acb60-7cdb-4a99-b1a0-a8dfa9fd9ea9",
   "metadata": {
    "tags": []
   },
   "outputs": [
    {
     "data": {
      "text/html": [
       "<div>\n",
       "<style scoped>\n",
       "    .dataframe tbody tr th:only-of-type {\n",
       "        vertical-align: middle;\n",
       "    }\n",
       "\n",
       "    .dataframe tbody tr th {\n",
       "        vertical-align: top;\n",
       "    }\n",
       "\n",
       "    .dataframe thead th {\n",
       "        text-align: right;\n",
       "    }\n",
       "</style>\n",
       "<table border=\"1\" class=\"dataframe\">\n",
       "  <thead>\n",
       "    <tr style=\"text-align: right;\">\n",
       "      <th></th>\n",
       "      <th>VIN (1-10)</th>\n",
       "      <th>County</th>\n",
       "      <th>City</th>\n",
       "      <th>Postal Code</th>\n",
       "      <th>Model Year</th>\n",
       "      <th>Make</th>\n",
       "      <th>Model</th>\n",
       "      <th>Electric Vehicle Type</th>\n",
       "      <th>Electric Range</th>\n",
       "      <th>Vehicle Location</th>\n",
       "      <th>Electric Utility</th>\n",
       "    </tr>\n",
       "  </thead>\n",
       "  <tbody>\n",
       "    <tr>\n",
       "      <th>0</th>\n",
       "      <td>5UXTA6C05P</td>\n",
       "      <td>Yakima</td>\n",
       "      <td>Yakima</td>\n",
       "      <td>98903.0</td>\n",
       "      <td>2023</td>\n",
       "      <td>BMW</td>\n",
       "      <td>X5</td>\n",
       "      <td>Plug-in Hybrid Electric Vehicle (PHEV)</td>\n",
       "      <td>30</td>\n",
       "      <td>POINT (-120.477805 46.553505)</td>\n",
       "      <td>PACIFICORP</td>\n",
       "    </tr>\n",
       "    <tr>\n",
       "      <th>2</th>\n",
       "      <td>5YJSA1E24G</td>\n",
       "      <td>King</td>\n",
       "      <td>Seattle</td>\n",
       "      <td>98103.0</td>\n",
       "      <td>2016</td>\n",
       "      <td>TESLA</td>\n",
       "      <td>MODEL S</td>\n",
       "      <td>Battery Electric Vehicle (BEV)</td>\n",
       "      <td>210</td>\n",
       "      <td>POINT (-122.34301 47.659185)</td>\n",
       "      <td>CITY OF SEATTLE - (WA)|CITY OF TACOMA - (WA)</td>\n",
       "    </tr>\n",
       "    <tr>\n",
       "      <th>3</th>\n",
       "      <td>1N4AZ1CP5J</td>\n",
       "      <td>King</td>\n",
       "      <td>Shoreline</td>\n",
       "      <td>98177.0</td>\n",
       "      <td>2018</td>\n",
       "      <td>NISSAN</td>\n",
       "      <td>LEAF</td>\n",
       "      <td>Battery Electric Vehicle (BEV)</td>\n",
       "      <td>151</td>\n",
       "      <td>POINT (-122.382425 47.77279)</td>\n",
       "      <td>CITY OF SEATTLE - (WA)|CITY OF TACOMA - (WA)</td>\n",
       "    </tr>\n",
       "    <tr>\n",
       "      <th>4</th>\n",
       "      <td>5YJ3E1EA6J</td>\n",
       "      <td>Island</td>\n",
       "      <td>Coupeville</td>\n",
       "      <td>98239.0</td>\n",
       "      <td>2018</td>\n",
       "      <td>TESLA</td>\n",
       "      <td>MODEL 3</td>\n",
       "      <td>Battery Electric Vehicle (BEV)</td>\n",
       "      <td>215</td>\n",
       "      <td>POINT (-122.6880708 48.2179983)</td>\n",
       "      <td>PUGET SOUND ENERGY INC</td>\n",
       "    </tr>\n",
       "    <tr>\n",
       "      <th>5</th>\n",
       "      <td>1G1FW6S00H</td>\n",
       "      <td>Kitsap</td>\n",
       "      <td>Seabeck</td>\n",
       "      <td>98380.0</td>\n",
       "      <td>2017</td>\n",
       "      <td>CHEVROLET</td>\n",
       "      <td>BOLT EV</td>\n",
       "      <td>Battery Electric Vehicle (BEV)</td>\n",
       "      <td>238</td>\n",
       "      <td>POINT (-122.847462 47.63836)</td>\n",
       "      <td>PUGET SOUND ENERGY INC</td>\n",
       "    </tr>\n",
       "    <tr>\n",
       "      <th>...</th>\n",
       "      <td>...</td>\n",
       "      <td>...</td>\n",
       "      <td>...</td>\n",
       "      <td>...</td>\n",
       "      <td>...</td>\n",
       "      <td>...</td>\n",
       "      <td>...</td>\n",
       "      <td>...</td>\n",
       "      <td>...</td>\n",
       "      <td>...</td>\n",
       "      <td>...</td>\n",
       "    </tr>\n",
       "    <tr>\n",
       "      <th>153825</th>\n",
       "      <td>1N4AZ0CP0D</td>\n",
       "      <td>San Juan</td>\n",
       "      <td>Eastsound</td>\n",
       "      <td>98245.0</td>\n",
       "      <td>2013</td>\n",
       "      <td>NISSAN</td>\n",
       "      <td>LEAF</td>\n",
       "      <td>Battery Electric Vehicle (BEV)</td>\n",
       "      <td>75</td>\n",
       "      <td>POINT (-122.907229 48.7016716)</td>\n",
       "      <td>BONNEVILLE POWER ADMINISTRATION||ORCAS POWER &amp;...</td>\n",
       "    </tr>\n",
       "    <tr>\n",
       "      <th>153826</th>\n",
       "      <td>5YJSA1E27H</td>\n",
       "      <td>Spokane</td>\n",
       "      <td>Spokane</td>\n",
       "      <td>99223.0</td>\n",
       "      <td>2017</td>\n",
       "      <td>TESLA</td>\n",
       "      <td>MODEL S</td>\n",
       "      <td>Battery Electric Vehicle (BEV)</td>\n",
       "      <td>210</td>\n",
       "      <td>POINT (-117.369705 47.62637)</td>\n",
       "      <td>BONNEVILLE POWER ADMINISTRATION||INLAND POWER ...</td>\n",
       "    </tr>\n",
       "    <tr>\n",
       "      <th>153827</th>\n",
       "      <td>1G1FW6S03P</td>\n",
       "      <td>King</td>\n",
       "      <td>Seatac</td>\n",
       "      <td>98188.0</td>\n",
       "      <td>2023</td>\n",
       "      <td>CHEVROLET</td>\n",
       "      <td>BOLT EV</td>\n",
       "      <td>Battery Electric Vehicle (BEV)</td>\n",
       "      <td>0</td>\n",
       "      <td>POINT (-122.29179 47.43473)</td>\n",
       "      <td>PUGET SOUND ENERGY INC||CITY OF TACOMA - (WA)</td>\n",
       "    </tr>\n",
       "    <tr>\n",
       "      <th>153828</th>\n",
       "      <td>3FMTK3SU1M</td>\n",
       "      <td>King</td>\n",
       "      <td>Kent</td>\n",
       "      <td>98031.0</td>\n",
       "      <td>2021</td>\n",
       "      <td>FORD</td>\n",
       "      <td>MUSTANG MACH-E</td>\n",
       "      <td>Battery Electric Vehicle (BEV)</td>\n",
       "      <td>0</td>\n",
       "      <td>POINT (-122.2012521 47.3931814)</td>\n",
       "      <td>PUGET SOUND ENERGY INC||CITY OF TACOMA - (WA)</td>\n",
       "    </tr>\n",
       "    <tr>\n",
       "      <th>153829</th>\n",
       "      <td>1N4AZ0CP0D</td>\n",
       "      <td>Pierce</td>\n",
       "      <td>Tacoma</td>\n",
       "      <td>98407.0</td>\n",
       "      <td>2013</td>\n",
       "      <td>NISSAN</td>\n",
       "      <td>LEAF</td>\n",
       "      <td>Battery Electric Vehicle (BEV)</td>\n",
       "      <td>75</td>\n",
       "      <td>POINT (-122.5113356 47.2923828)</td>\n",
       "      <td>BONNEVILLE POWER ADMINISTRATION||CITY OF TACOM...</td>\n",
       "    </tr>\n",
       "  </tbody>\n",
       "</table>\n",
       "<p>153823 rows × 11 columns</p>\n",
       "</div>"
      ],
      "text/plain": [
       "        VIN (1-10)    County        City  Postal Code  Model Year       Make  \\\n",
       "0       5UXTA6C05P    Yakima      Yakima      98903.0        2023        BMW   \n",
       "2       5YJSA1E24G      King     Seattle      98103.0        2016      TESLA   \n",
       "3       1N4AZ1CP5J      King   Shoreline      98177.0        2018     NISSAN   \n",
       "4       5YJ3E1EA6J    Island  Coupeville      98239.0        2018      TESLA   \n",
       "5       1G1FW6S00H    Kitsap     Seabeck      98380.0        2017  CHEVROLET   \n",
       "...            ...       ...         ...          ...         ...        ...   \n",
       "153825  1N4AZ0CP0D  San Juan   Eastsound      98245.0        2013     NISSAN   \n",
       "153826  5YJSA1E27H   Spokane     Spokane      99223.0        2017      TESLA   \n",
       "153827  1G1FW6S03P      King      Seatac      98188.0        2023  CHEVROLET   \n",
       "153828  3FMTK3SU1M      King        Kent      98031.0        2021       FORD   \n",
       "153829  1N4AZ0CP0D    Pierce      Tacoma      98407.0        2013     NISSAN   \n",
       "\n",
       "                 Model                   Electric Vehicle Type  \\\n",
       "0                   X5  Plug-in Hybrid Electric Vehicle (PHEV)   \n",
       "2              MODEL S          Battery Electric Vehicle (BEV)   \n",
       "3                 LEAF          Battery Electric Vehicle (BEV)   \n",
       "4              MODEL 3          Battery Electric Vehicle (BEV)   \n",
       "5              BOLT EV          Battery Electric Vehicle (BEV)   \n",
       "...                ...                                     ...   \n",
       "153825            LEAF          Battery Electric Vehicle (BEV)   \n",
       "153826         MODEL S          Battery Electric Vehicle (BEV)   \n",
       "153827         BOLT EV          Battery Electric Vehicle (BEV)   \n",
       "153828  MUSTANG MACH-E          Battery Electric Vehicle (BEV)   \n",
       "153829            LEAF          Battery Electric Vehicle (BEV)   \n",
       "\n",
       "        Electric Range                 Vehicle Location  \\\n",
       "0                   30    POINT (-120.477805 46.553505)   \n",
       "2                  210     POINT (-122.34301 47.659185)   \n",
       "3                  151     POINT (-122.382425 47.77279)   \n",
       "4                  215  POINT (-122.6880708 48.2179983)   \n",
       "5                  238     POINT (-122.847462 47.63836)   \n",
       "...                ...                              ...   \n",
       "153825              75   POINT (-122.907229 48.7016716)   \n",
       "153826             210     POINT (-117.369705 47.62637)   \n",
       "153827               0      POINT (-122.29179 47.43473)   \n",
       "153828               0  POINT (-122.2012521 47.3931814)   \n",
       "153829              75  POINT (-122.5113356 47.2923828)   \n",
       "\n",
       "                                         Electric Utility  \n",
       "0                                              PACIFICORP  \n",
       "2            CITY OF SEATTLE - (WA)|CITY OF TACOMA - (WA)  \n",
       "3            CITY OF SEATTLE - (WA)|CITY OF TACOMA - (WA)  \n",
       "4                                  PUGET SOUND ENERGY INC  \n",
       "5                                  PUGET SOUND ENERGY INC  \n",
       "...                                                   ...  \n",
       "153825  BONNEVILLE POWER ADMINISTRATION||ORCAS POWER &...  \n",
       "153826  BONNEVILLE POWER ADMINISTRATION||INLAND POWER ...  \n",
       "153827      PUGET SOUND ENERGY INC||CITY OF TACOMA - (WA)  \n",
       "153828      PUGET SOUND ENERGY INC||CITY OF TACOMA - (WA)  \n",
       "153829  BONNEVILLE POWER ADMINISTRATION||CITY OF TACOM...  \n",
       "\n",
       "[153823 rows x 11 columns]"
      ]
     },
     "execution_count": 14,
     "metadata": {},
     "output_type": "execute_result"
    }
   ],
   "source": [
    "ev_wa = ev_wa.dropna()\n",
    "ev_wa"
   ]
  },
  {
   "cell_type": "code",
   "execution_count": 24,
   "id": "05dc6558-53ee-4239-8618-87ea91edaadf",
   "metadata": {
    "tags": []
   },
   "outputs": [
    {
     "name": "stderr",
     "output_type": "stream",
     "text": [
      "C:\\Users\\seanj\\AppData\\Local\\Temp\\ipykernel_9160\\1245679099.py:2: SettingWithCopyWarning: \n",
      "A value is trying to be set on a copy of a slice from a DataFrame.\n",
      "Try using .loc[row_indexer,col_indexer] = value instead\n",
      "\n",
      "See the caveats in the documentation: https://pandas.pydata.org/pandas-docs/stable/user_guide/indexing.html#returning-a-view-versus-a-copy\n",
      "  ev_wa['Postal Code'] = ev_wa['Postal Code'].astype(int)\n"
     ]
    }
   ],
   "source": [
    "# changed postal code from float to int\n",
    "ev_wa['Postal Code'] = ev_wa['Postal Code'].astype(int)"
   ]
  },
  {
   "cell_type": "code",
   "execution_count": 60,
   "id": "2588b3d3-077f-4636-8ff4-62c6e20cf92b",
   "metadata": {
    "tags": []
   },
   "outputs": [],
   "source": [
    "ev_wa1 = ev_wa.copy()"
   ]
  },
  {
   "cell_type": "code",
   "execution_count": 61,
   "id": "8e8ba330-cb61-41e0-adb5-0ef980710d25",
   "metadata": {
    "tags": []
   },
   "outputs": [],
   "source": [
    "ev_wa1['Vehicle Location'] = ev_wa1['Vehicle Location'].str.replace('POINT', '')"
   ]
  },
  {
   "cell_type": "code",
   "execution_count": 62,
   "id": "1a77574e-ba62-4e15-9ee5-30d251815caa",
   "metadata": {
    "tags": []
   },
   "outputs": [],
   "source": [
    "ev_wa1['Vehicle Location'] = ev_wa1['Vehicle Location'].str.replace(r'\\(*\\)', '', regex=True)"
   ]
  },
  {
   "cell_type": "code",
   "execution_count": 63,
   "id": "a598683b-72eb-4161-9efa-cfc60304b398",
   "metadata": {
    "tags": []
   },
   "outputs": [],
   "source": [
    "ev_wa1['Vehicle Location'] = ev_wa1['Vehicle Location'].str.replace('(', '')"
   ]
  },
  {
   "cell_type": "code",
   "execution_count": 64,
   "id": "f2d53be3-b694-4934-95f9-58f207f51cc0",
   "metadata": {
    "tags": []
   },
   "outputs": [],
   "source": [
    "ev_wa1[['Longitude', 'Latitude']] = ev_wa1['Vehicle Location'].str.split(n=1,expand=True)"
   ]
  },
  {
   "cell_type": "code",
   "execution_count": 67,
   "id": "a7d640e5-3e03-4018-a6f4-985cd73f4a8b",
   "metadata": {
    "tags": []
   },
   "outputs": [],
   "source": [
    "ev_wa = ev_wa1.drop(columns='Vehicle Location')"
   ]
  },
  {
   "cell_type": "code",
   "execution_count": 72,
   "id": "6f462831-c31c-4170-a52b-35184fcb2c2e",
   "metadata": {
    "tags": []
   },
   "outputs": [],
   "source": [
    "ev_wa.to_csv('ev_wa.csv')"
   ]
  },
  {
   "cell_type": "code",
   "execution_count": null,
   "id": "925bfdea-47c5-4ba6-ab89-eeee3044484b",
   "metadata": {},
   "outputs": [],
   "source": []
  }
 ],
 "metadata": {
  "kernelspec": {
   "display_name": "lhl",
   "language": "python",
   "name": "lhl"
  },
  "language_info": {
   "codemirror_mode": {
    "name": "ipython",
    "version": 3
   },
   "file_extension": ".py",
   "mimetype": "text/x-python",
   "name": "python",
   "nbconvert_exporter": "python",
   "pygments_lexer": "ipython3",
   "version": "3.11.5"
  }
 },
 "nbformat": 4,
 "nbformat_minor": 5
}
