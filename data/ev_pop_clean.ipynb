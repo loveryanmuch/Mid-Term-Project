{
 "cells": [
  {
   "cell_type": "code",
   "execution_count": 2,
   "id": "a0b18685-c3bd-4808-94d9-9ffe992afeb1",
   "metadata": {
    "tags": []
   },
   "outputs": [],
   "source": [
    "import pandas as pd"
   ]
  },
  {
   "cell_type": "code",
   "execution_count": 3,
   "id": "1d53a209-678a-40dd-94e0-9bda2b5e6db9",
   "metadata": {
    "tags": []
   },
   "outputs": [],
   "source": [
    "# variable is short for Electric Vehicles (EV) in Washington State (WA)\n",
    "ev_wa = pd.read_csv('Electric_Vehicle_Population_Data.csv')"
   ]
  },
  {
   "cell_type": "code",
   "execution_count": 4,
   "id": "f0fa8a15-936a-47e6-91a9-b40a408880e9",
   "metadata": {
    "tags": []
   },
   "outputs": [],
   "source": [
    "# dropping unneeded columns, null values\n",
    "ev_wa = ev_wa.drop(columns=['State', 'Electric Utility', 'Clean Alternative Fuel Vehicle (CAFV) Eligibility','Base MSRP','Legislative District','DOL Vehicle ID','2020 Census Tract','Counties','Congressional Districts','WAOFM - GIS - Legislative District Boundary'])\n",
    "ev_wa = ev_wa.dropna()"
   ]
  },
  {
   "cell_type": "code",
   "execution_count": 5,
   "id": "05dc6558-53ee-4239-8618-87ea91edaadf",
   "metadata": {
    "tags": []
   },
   "outputs": [],
   "source": [
    "# changed postal code from float to int\n",
    "ev_wa['Postal Code'] = ev_wa['Postal Code'].astype(int)"
   ]
  },
  {
   "cell_type": "code",
   "execution_count": 10,
   "id": "8e8ba330-cb61-41e0-adb5-0ef980710d25",
   "metadata": {
    "tags": []
   },
   "outputs": [],
   "source": [
    "# splitting coordinate column into individual longitude, latitude columns\n",
    "ev_wa['Vehicle Location'] = ev_wa['Vehicle Location'].str.replace('POINT', '')\n",
    "ev_wa['Vehicle Location'] = ev_wa['Vehicle Location'].str.replace(')', '')\n",
    "ev_wa['Vehicle Location'] = ev_wa['Vehicle Location'].str.replace('(', '')\n",
    "\n",
    "ev_wa[['Longitude', 'Latitude']] = ev_wa['Vehicle Location'].str.split(n=1,expand=True)\n",
    "ev_wa = ev_wa.drop(columns='Vehicle Location')"
   ]
  },
  {
   "cell_type": "code",
   "execution_count": 12,
   "id": "6f462831-c31c-4170-a52b-35184fcb2c2e",
   "metadata": {
    "tags": []
   },
   "outputs": [],
   "source": [
    "ev_wa.to_csv('ev_pop_clean.csv', index=False)"
   ]
  },
  {
   "cell_type": "code",
   "execution_count": null,
   "id": "9e017382-5484-4a04-8228-011f7b45c57b",
   "metadata": {},
   "outputs": [],
   "source": []
  }
 ],
 "metadata": {
  "kernelspec": {
   "display_name": "lhl",
   "language": "python",
   "name": "lhl"
  },
  "language_info": {
   "codemirror_mode": {
    "name": "ipython",
    "version": 3
   },
   "file_extension": ".py",
   "mimetype": "text/x-python",
   "name": "python",
   "nbconvert_exporter": "python",
   "pygments_lexer": "ipython3",
   "version": "3.11.5"
  }
 },
 "nbformat": 4,
 "nbformat_minor": 5
}
