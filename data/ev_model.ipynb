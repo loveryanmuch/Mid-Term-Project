{
 "cells": [
  {
   "cell_type": "code",
   "execution_count": 174,
   "id": "f0dc50fe-0bae-4f9c-a5a5-0698d8a2ef97",
   "metadata": {
    "tags": []
   },
   "outputs": [],
   "source": [
    "import pandas as pd \n",
    "import numpy as np \n",
    "import statsmodels.api as sm"
   ]
  },
  {
   "cell_type": "code",
   "execution_count": 191,
   "id": "6e6a5f59-db67-4cb5-b9a4-c73ad6de8b50",
   "metadata": {
    "tags": []
   },
   "outputs": [],
   "source": [
    "ev = pd.read_csv('ev_county_clean.csv')\n",
    "income = pd.read_csv('wa_median_income.csv')\n",
    "sex = pd.read_csv('Population by gender.csv')"
   ]
  },
  {
   "cell_type": "code",
   "execution_count": 176,
   "id": "544126cd-2e15-4fab-8836-c85ccdae4368",
   "metadata": {
    "tags": []
   },
   "outputs": [],
   "source": [
    "# added ev total to model df\n",
    "ev_model = ev[ev['Date'] == 'December 31 2021']\n",
    "ev_model = ev_model.drop(columns=['Date','Battery Electric Vehicles (BEVs)','Plug-In Hybrid Electric Vehicles (PHEVs)','Non-Electric Vehicle Total','Total Vehicles'])\n",
    "ev_model = ev_model.rename(columns={'Electric Vehicle (EV) Total': 'EV Total'})"
   ]
  },
  {
   "cell_type": "code",
   "execution_count": 177,
   "id": "05db6b7c-ce64-4ee3-aa1a-54ace238bfe3",
   "metadata": {
    "tags": []
   },
   "outputs": [],
   "source": [
    "# merged income df, cleaned df\n",
    "ev_model = ev_model.merge(income, on='County')\n",
    "ev_model = ev_model.drop(columns=['Unnamed: 0','2022'])\n",
    "ev_model = ev_model.rename(columns={'2021': 'Median Income'})\n",
    "\n",
    "# changed median income from str to int\n",
    "ev_model['Median Income'] = ev_model['Median Income'].str.replace(',', '')\n",
    "ev_model['Median Income'] = ev_model['Median Income'].astype(int)"
   ]
  },
  {
   "cell_type": "code",
   "execution_count": 178,
   "id": "06eab279-6128-4286-94f3-57fe270fab31",
   "metadata": {
    "tags": []
   },
   "outputs": [],
   "source": [
    "# dropped all columns except for chosen\n",
    "sex = sex.loc[:, sex.columns.intersection(['Location Name','Indicator Name','2021'])]\n",
    "sex = sex.dropna()\n",
    "\n",
    "# removed total state info, formated county \n",
    "sex = sex[sex['Location Name'].str.contains('County')]\n",
    "sex['Location Name'] = sex['Location Name'].str.replace(' County', '')\n",
    "\n",
    "# changing population number from float to int\n",
    "sex['2021'] = sex['2021'].astype(int)"
   ]
  },
  {
   "cell_type": "code",
   "execution_count": 179,
   "id": "6fa5d8f8-6ca1-4303-aa5d-512d49b9cdf0",
   "metadata": {
    "tags": []
   },
   "outputs": [],
   "source": [
    "# merged male pop. by county to ev model df\n",
    "sex_m = sex[sex['Indicator Name'] == 'Male']\n",
    "sex_m = sex_m.drop(columns='Indicator Name')\n",
    "sex_m = sex_m.rename(columns={'Location Name': 'County','2021': 'Male Pop.'})\n",
    "ev_model = ev_model.merge(sex_m, on='County')"
   ]
  },
  {
   "cell_type": "code",
   "execution_count": 181,
   "id": "13c85efc-da56-412a-b8df-029fcab6b006",
   "metadata": {
    "tags": []
   },
   "outputs": [],
   "source": [
    "# merged female pop. by county to ev model df\n",
    "sex_f = sex[sex['Indicator Name'] == 'Female']\n",
    "sex_f = sex_f.drop(columns='Indicator Name')\n",
    "sex_f = sex_f.rename(columns={'Location Name': 'County','2021': 'Female Pop.'})\n",
    "ev_model = ev_model.merge(sex_f, on='County')"
   ]
  },
  {
   "cell_type": "code",
   "execution_count": 182,
   "id": "ffabaf10-cfb3-4c6e-b94b-44bbd98a4e0f",
   "metadata": {
    "tags": []
   },
   "outputs": [],
   "source": [
    "# added total pop. as another variable\n",
    "ev_model['Pop.'] = ev_model['Male Pop.'] + ev_model['Female Pop.']"
   ]
  },
  {
   "cell_type": "code",
   "execution_count": 183,
   "id": "52a33e04-1db0-45c8-aba0-30e4f5be77ef",
   "metadata": {
    "tags": []
   },
   "outputs": [],
   "source": [
    "# changed male, female pop to ratios\n",
    "ev_model['Male Pop.'] = ev_model['Male Pop.'] / ev_model['Pop.']\n",
    "ev_model['Female Pop.'] = ev_model['Female Pop.'] / ev_model['Pop.']\n",
    "ev_model = ev_model.rename(columns={'Male Pop.': 'Male Ratio', 'Female Pop.': 'Female Ratio'})"
   ]
  },
  {
   "cell_type": "code",
   "execution_count": 184,
   "id": "b327695e-6d57-4da5-931e-2c8b3c3c6736",
   "metadata": {
    "tags": []
   },
   "outputs": [],
   "source": [
    "X = ev_model.drop(['County', 'EV Total'], axis=1)\n",
    "y = ev_model['EV Total']"
   ]
  },
  {
   "cell_type": "code",
   "execution_count": 185,
   "id": "d776c4a6-0879-4972-805f-8663262412fe",
   "metadata": {
    "tags": []
   },
   "outputs": [],
   "source": [
    "mn = sm.OLS(y,sm.add_constant(X))"
   ]
  },
  {
   "cell_type": "code",
   "execution_count": 186,
   "id": "42569b29-42bb-4620-a747-783fcfb6480e",
   "metadata": {
    "tags": []
   },
   "outputs": [
    {
     "name": "stdout",
     "output_type": "stream",
     "text": [
      "                            OLS Regression Results                            \n",
      "==============================================================================\n",
      "Dep. Variable:               EV Total   R-squared:                       0.901\n",
      "Model:                            OLS   Adj. R-squared:                  0.893\n",
      "Method:                 Least Squares   F-statistic:                     106.5\n",
      "Date:                Thu, 02 Nov 2023   Prob (F-statistic):           1.16e-17\n",
      "Time:                        14:57:18   Log-Likelihood:                -357.16\n",
      "No. Observations:                  39   AIC:                             722.3\n",
      "Df Residuals:                      35   BIC:                             729.0\n",
      "Df Model:                           3                                         \n",
      "Covariance Type:            nonrobust                                         \n",
      "=================================================================================\n",
      "                    coef    std err          t      P>|t|      [0.025      0.975]\n",
      "---------------------------------------------------------------------------------\n",
      "const          1031.3552   2097.250      0.492      0.626   -3226.288    5288.998\n",
      "Median Income    -0.0443      0.049     -0.905      0.372      -0.144       0.055\n",
      "Male Ratio      1.19e+04   2.04e+04      0.584      0.563   -2.95e+04    5.33e+04\n",
      "Female Ratio  -1.087e+04   2.07e+04     -0.525      0.603   -5.29e+04    3.12e+04\n",
      "Pop.              0.0191      0.002     11.997      0.000       0.016       0.022\n",
      "==============================================================================\n",
      "Omnibus:                       21.915   Durbin-Watson:                   1.888\n",
      "Prob(Omnibus):                  0.000   Jarque-Bera (JB):               55.492\n",
      "Skew:                          -1.224   Prob(JB):                     8.91e-13\n",
      "Kurtosis:                       8.306   Cond. No.                     1.83e+19\n",
      "==============================================================================\n",
      "\n",
      "Notes:\n",
      "[1] Standard Errors assume that the covariance matrix of the errors is correctly specified.\n",
      "[2] The smallest eigenvalue is 2.19e-26. This might indicate that there are\n",
      "strong multicollinearity problems or that the design matrix is singular.\n"
     ]
    }
   ],
   "source": [
    "model = mn.fit()\n",
    "print_model = model.summary()\n",
    "print(print_model)"
   ]
  },
  {
   "cell_type": "code",
   "execution_count": null,
   "id": "b48d1f6f-4b47-4ce5-828c-c9709704b94b",
   "metadata": {},
   "outputs": [],
   "source": []
  }
 ],
 "metadata": {
  "kernelspec": {
   "display_name": "lhl",
   "language": "python",
   "name": "lhl"
  },
  "language_info": {
   "codemirror_mode": {
    "name": "ipython",
    "version": 3
   },
   "file_extension": ".py",
   "mimetype": "text/x-python",
   "name": "python",
   "nbconvert_exporter": "python",
   "pygments_lexer": "ipython3",
   "version": "3.11.5"
  }
 },
 "nbformat": 4,
 "nbformat_minor": 5
}
