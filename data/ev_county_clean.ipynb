{
 "cells": [
  {
   "cell_type": "code",
   "execution_count": 46,
   "id": "10ee7e86-bca3-4d10-a58c-8549aeaa1477",
   "metadata": {
    "tags": []
   },
   "outputs": [],
   "source": [
    "import pandas as pd"
   ]
  },
  {
   "cell_type": "code",
   "execution_count": 47,
   "id": "dc0bfbc6-b934-4d5b-a235-975d409d1832",
   "metadata": {
    "tags": []
   },
   "outputs": [],
   "source": [
    "ev_county = pd.read_csv('Electric_Vehicle_Population_Size_History_By_County.csv')"
   ]
  },
  {
   "cell_type": "code",
   "execution_count": 48,
   "id": "4a4120a4-a524-4f0e-a1c7-be43a8ca48e4",
   "metadata": {
    "tags": []
   },
   "outputs": [],
   "source": [
    "# filtered for only EVs in WA, then sorted\n",
    "ev_county = ev_county[ev_county['State'] == 'WA']\n",
    "ev_county = ev_county.sort_values(by=['County','Date'])"
   ]
  },
  {
   "cell_type": "code",
   "execution_count": 49,
   "id": "e398316c-2c2f-41e7-bf93-6e11d6ccad8f",
   "metadata": {
    "tags": []
   },
   "outputs": [],
   "source": [
    "# most recent ev, vehicle counts\n",
    "recent_ev_count = ev_county[ev_county['Date'] == 'September 30 2023']\n",
    "total_ev = recent_ev_count['Electric Vehicle (EV) Total'].sum()\n",
    "total_non_ev = recent_ev_count['Non-Electric Vehicle Total'].sum()\n",
    "total_vehicles = recent_ev_count['Total Vehicles'].sum()"
   ]
  },
  {
   "cell_type": "code",
   "execution_count": 50,
   "id": "d1f0ac50-8fea-4d1b-a9e0-14fa91bf4233",
   "metadata": {
    "tags": []
   },
   "outputs": [
    {
     "name": "stdout",
     "output_type": "stream",
     "text": [
      "Total EV: 150502\n",
      "Total non-EV: 5812372\n",
      "Total Vehicles: 5962874\n"
     ]
    }
   ],
   "source": [
    "print(f'Total EV: {total_ev}\\nTotal non-EV: {total_non_ev}\\nTotal Vehicles: {total_vehicles}')"
   ]
  },
  {
   "cell_type": "code",
   "execution_count": 51,
   "id": "7d1d2171-acfd-43f5-b0ac-1178a95d1d80",
   "metadata": {
    "tags": []
   },
   "outputs": [],
   "source": [
    "# dropped unneed columns, combined vehicle types together\n",
    "ev_county = ev_county.drop(columns=['State','Vehicle Primary Use','Percent Electric Vehicles'])\n",
    "ev_county = ev_county.groupby(['County','Date']).sum()"
   ]
  },
  {
   "cell_type": "code",
   "execution_count": 54,
   "id": "60dce046-0367-40bb-8cbc-90df88fc54d4",
   "metadata": {
    "tags": []
   },
   "outputs": [],
   "source": [
    "ev_county.to_csv('ev_county_clean.csv', index=True)"
   ]
  },
  {
   "cell_type": "code",
   "execution_count": null,
   "id": "4c2cb305-6451-447a-b934-794b6231030f",
   "metadata": {},
   "outputs": [],
   "source": []
  }
 ],
 "metadata": {
  "kernelspec": {
   "display_name": "lhl",
   "language": "python",
   "name": "lhl"
  },
  "language_info": {
   "codemirror_mode": {
    "name": "ipython",
    "version": 3
   },
   "file_extension": ".py",
   "mimetype": "text/x-python",
   "name": "python",
   "nbconvert_exporter": "python",
   "pygments_lexer": "ipython3",
   "version": "3.11.5"
  }
 },
 "nbformat": 4,
 "nbformat_minor": 5
}
