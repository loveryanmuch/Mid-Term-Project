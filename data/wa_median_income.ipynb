{
 "cells": [
  {
   "cell_type": "code",
   "execution_count": 21,
   "id": "e8aef636-c049-4761-a596-a33a951b259b",
   "metadata": {
    "tags": []
   },
   "outputs": [],
   "source": [
    "import pandas as pd"
   ]
  },
  {
   "cell_type": "code",
   "execution_count": 22,
   "id": "b5a36aff-f07e-42d3-b294-e1beb27d948e",
   "metadata": {
    "tags": []
   },
   "outputs": [],
   "source": [
    "wa_income = pd.read_csv('median_household_income_estimates.csv')"
   ]
  },
  {
   "cell_type": "code",
   "execution_count": 23,
   "id": "a6538204-c2d5-4a4f-9fd2-db2af4bbace8",
   "metadata": {
    "tags": []
   },
   "outputs": [],
   "source": [
    "# drops total state info, unnecessary years\n",
    "wa_income = wa_income.drop(index=0)\n",
    "wa_income = wa_income.loc[:, wa_income.columns.intersection(['County','2021','2022'])]"
   ]
  },
  {
   "cell_type": "code",
   "execution_count": 25,
   "id": "523587f1-7cf8-4b5e-9798-cfb04fe72bbe",
   "metadata": {
    "tags": []
   },
   "outputs": [],
   "source": [
    "wa_income.to_csv('wa_median_income.csv')"
   ]
  }
 ],
 "metadata": {
  "kernelspec": {
   "display_name": "lhl",
   "language": "python",
   "name": "lhl"
  },
  "language_info": {
   "codemirror_mode": {
    "name": "ipython",
    "version": 3
   },
   "file_extension": ".py",
   "mimetype": "text/x-python",
   "name": "python",
   "nbconvert_exporter": "python",
   "pygments_lexer": "ipython3",
   "version": "3.11.5"
  }
 },
 "nbformat": 4,
 "nbformat_minor": 5
}
